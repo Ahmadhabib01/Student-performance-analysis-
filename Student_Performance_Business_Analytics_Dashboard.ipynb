{
 "cells": [
  {
   "cell_type": "markdown",
   "id": "f9de770e",
   "metadata": {},
   "source": [
    "\n",
    "# 📊 Student Performance Dashboard (Business Analytics Style) By Ahmad Habib\n",
    "\n",
    "This notebook transforms academic data into actionable business-style insights using visual storytelling.\n",
    "\n",
    "**I will:**\n",
    "- Segment student data by categories (gender, prep, lunch)\n",
    "- Plot KPIs (average scores)\n",
    "- Build bar/pie charts to support analysis\n",
    "- Deliver concise business insights\n",
    "\n",
    "📂 Dataset: [student.csv](https://raw.githubusercontent.com/aburagohit/student-performance-analysis/main/student.csv)\n"
   ]
  },
  {
   "cell_type": "code",
   "execution_count": null,
   "id": "0586c53b",
   "metadata": {},
   "outputs": [],
   "source": [
    "import pandas as pd\n",
    "import matplotlib.pyplot as plt\n",
    "import seaborn as sns\n",
    "\n",
    "# Load dataset\n",
    "url = \"https://raw.githubusercontent.com/aburagohit/student-performance-analysis/main/student.csv\"\n",
    "df = pd.read_csv(url)\n",
    "df.head()"
   ]
  },
  {
   "cell_type": "markdown",
   "id": "45afe427",
   "metadata": {},
   "source": [
    "## 🚻 Average Scores by Gender"
   ]
  },
  {
   "cell_type": "code",
   "execution_count": null,
   "id": "9ce70051",
   "metadata": {},
   "outputs": [],
   "source": [
    "gender_avg = df.groupby('gender')[['math_score', 'reading_score', 'writing_score']].mean()\n",
    "gender_avg.plot(kind='bar', figsize=(8,5), title=\"Average Scores by Gender\", color=['#4CAF50', '#2196F3', '#FF5722'])\n",
    "plt.ylabel(\"Average Score\")\n",
    "plt.xticks(rotation=0)\n",
    "plt.grid(True)\n",
    "plt.tight_layout()\n",
    "plt.show()"
   ]
  },
  {
   "cell_type": "markdown",
   "id": "5402f164",
   "metadata": {},
   "source": [
    "## 📚 Test Preparation Course Impact"
   ]
  },
  {
   "cell_type": "code",
   "execution_count": null,
   "id": "a378ad1e",
   "metadata": {},
   "outputs": [],
   "source": [
    "prep_avg = df.groupby('test_preparation_course')[['math_score', 'reading_score', 'writing_score']].mean()\n",
    "prep_avg.plot(kind='bar', figsize=(8,5), title=\"Scores by Test Preparation Status\", color=['#009688', '#FFC107', '#3F51B5'])\n",
    "plt.ylabel(\"Average Score\")\n",
    "plt.xticks(rotation=0)\n",
    "plt.grid(True)\n",
    "plt.tight_layout()\n",
    "plt.show()"
   ]
  },
  {
   "cell_type": "markdown",
   "id": "ac4c86bf",
   "metadata": {},
   "source": [
    "## 🍴 Lunch Type Comparison"
   ]
  },
  {
   "cell_type": "code",
   "execution_count": null,
   "id": "80e942c0",
   "metadata": {},
   "outputs": [],
   "source": [
    "lunch_avg = df.groupby('lunch')[['math_score', 'reading_score', 'writing_score']].mean()\n",
    "lunch_avg.plot(kind='bar', figsize=(8,5), title=\"Scores by Lunch Type\", color=['#E91E63', '#00BCD4', '#8BC34A'])\n",
    "plt.ylabel(\"Average Score\")\n",
    "plt.xticks(rotation=0)\n",
    "plt.grid(True)\n",
    "plt.tight_layout()\n",
    "plt.show()"
   ]
  },
  {
   "cell_type": "markdown",
   "id": "65032570",
   "metadata": {},
   "source": [
    "## 🧮 Student Gender Distribution"
   ]
  },
  {
   "cell_type": "code",
   "execution_count": null,
   "id": "9e0ae676",
   "metadata": {},
   "outputs": [],
   "source": [
    "df['gender'].value_counts().plot(kind='pie', autopct='%1.1f%%', colors=['#FF9999','#66B2FF'], title='Gender Distribution')\n",
    "plt.ylabel(\"\")\n",
    "plt.tight_layout()\n",
    "plt.show()"
   ]
  },
  {
   "cell_type": "markdown",
   "id": "a3de8e73",
   "metadata": {},
   "source": [
    "## 🧠  Insights"
   ]
  },
  {
   "cell_type": "markdown",
   "id": "1f624860",
   "metadata": {},
   "source": [
    "\n",
    "- ✅ **Females outperform males in reading and writing**, though math scores are close.\n",
    "- ✅ **Students who complete test prep score significantly higher** in all three subjects.\n",
    "- ✅ **Students with standard lunch consistently score higher** than those with free/reduced lunch.\n",
    "- ✅ Gender split is fairly balanced, offering good diversity for targeting prep programs.\n"
   ]
  },
  {
   "cell_type": "markdown",
   "id": "491793ce",
   "metadata": {},
   "source": []
  }
 ],
 "metadata": {
  "language_info": {
   "name": "python"
  }
 },
 "nbformat": 4,
 "nbformat_minor": 5
}
