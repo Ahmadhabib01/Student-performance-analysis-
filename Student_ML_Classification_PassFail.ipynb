{
 "cells": [
  {
   "cell_type": "markdown",
   "id": "9d139f47",
   "metadata": {},
   "source": [
    "# 🤖 Predicting Student Pass/Fail (ML Classification)"
   ]
  },
  {
   "cell_type": "code",
   "execution_count": null,
   "id": "53276b57",
   "metadata": {},
   "outputs": [],
   "source": [
    "import pandas as pd\n",
    "from sklearn.model_selection import train_test_split\n",
    "from sklearn.linear_model import LogisticRegression\n",
    "from sklearn.metrics import accuracy_score\n",
    "url = \"https://raw.githubusercontent.com/aburagohit/student-performance-analysis/main/student.csv\"\n",
    "df = pd.read_csv(url)\n",
    "df['passed_math'] = (df['math_score'] >= 50).astype(int)\n",
    "df_encoded = pd.get_dummies(df, drop_first=True)\n",
    "X = df_encoded.drop(['math_score', 'passed_math'], axis=1)\n",
    "y = df_encoded['passed_math']\n",
    "X_train, X_test, y_train, y_test = train_test_split(X, y, test_size=0.2)\n",
    "model = LogisticRegression(max_iter=1000)\n",
    "model.fit(X_train, y_train)\n",
    "print(\"Accuracy:\", accuracy_score(y_test, model.predict(X_test)))"
   ]
  }
 ],
 "metadata": {},
 "nbformat": 4,
 "nbformat_minor": 5
}