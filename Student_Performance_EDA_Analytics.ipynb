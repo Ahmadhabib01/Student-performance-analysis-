{
 "cells": [
  {
   "cell_type": "markdown",
   "id": "9836eae8",
   "metadata": {},
   "source": [
    "# 🎓 Student Performance Analysis"
   ]
  },
  {
   "cell_type": "code",
   "execution_count": null,
   "id": "cd9e6485",
   "metadata": {},
   "outputs": [],
   "source": [
    "import pandas as pd\n",
    "import matplotlib.pyplot as plt\n",
    "import seaborn as sns\n",
    "url = \"https://raw.githubusercontent.com/aburagohit/student-performance-analysis/main/student.csv\"\n",
    "df = pd.read_csv(url)\n",
    "df.head()"
   ]
  }
 ],
 "metadata": {},
 "nbformat": 4,
 "nbformat_minor": 5
}